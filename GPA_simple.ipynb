{
 "cells": [
  {
   "cell_type": "markdown",
   "id": "fdc3395f",
   "metadata": {},
   "source": [
    "# Simple Linear Regression"
   ]
  },
  {
   "cell_type": "markdown",
   "id": "c413c943",
   "metadata": {},
   "source": [
    "### 1) Import library"
   ]
  },
  {
   "cell_type": "code",
   "execution_count": 44,
   "id": "1052488a",
   "metadata": {},
   "outputs": [],
   "source": [
    "import pandas as pd\n",
    "import matplotlib.pyplot as plt\n",
    "\n",
    "from sklearn.model_selection import train_test_split \n",
    "from sklearn.linear_model import LinearRegression \n",
    "from sklearn import metrics"
   ]
  },
  {
   "cell_type": "markdown",
   "id": "4b321529",
   "metadata": {},
   "source": [
    "### 2) Load Dataset\n",
    "Link to the GPA Dataset --> [GPA.csv](https://github.com/Airin2006/Linear_regression/blob/main/GPA.csv)"
   ]
  },
  {
   "cell_type": "code",
   "execution_count": 45,
   "id": "b5138608",
   "metadata": {},
   "outputs": [],
   "source": [
    "df = pd.read_csv(\"GPA.csv\")"
   ]
  },
  {
   "cell_type": "code",
   "execution_count": 46,
   "id": "721dde15",
   "metadata": {},
   "outputs": [
    {
     "data": {
      "text/html": [
       "<div>\n",
       "<style scoped>\n",
       "    .dataframe tbody tr th:only-of-type {\n",
       "        vertical-align: middle;\n",
       "    }\n",
       "\n",
       "    .dataframe tbody tr th {\n",
       "        vertical-align: top;\n",
       "    }\n",
       "\n",
       "    .dataframe thead th {\n",
       "        text-align: right;\n",
       "    }\n",
       "</style>\n",
       "<table border=\"1\" class=\"dataframe\">\n",
       "  <thead>\n",
       "    <tr style=\"text-align: right;\">\n",
       "      <th></th>\n",
       "      <th>SAT</th>\n",
       "      <th>GPA</th>\n",
       "    </tr>\n",
       "  </thead>\n",
       "  <tbody>\n",
       "    <tr>\n",
       "      <th>0</th>\n",
       "      <td>1714</td>\n",
       "      <td>2.40</td>\n",
       "    </tr>\n",
       "    <tr>\n",
       "      <th>1</th>\n",
       "      <td>1664</td>\n",
       "      <td>2.52</td>\n",
       "    </tr>\n",
       "    <tr>\n",
       "      <th>2</th>\n",
       "      <td>1760</td>\n",
       "      <td>2.54</td>\n",
       "    </tr>\n",
       "    <tr>\n",
       "      <th>3</th>\n",
       "      <td>1685</td>\n",
       "      <td>2.74</td>\n",
       "    </tr>\n",
       "    <tr>\n",
       "      <th>4</th>\n",
       "      <td>1693</td>\n",
       "      <td>2.83</td>\n",
       "    </tr>\n",
       "  </tbody>\n",
       "</table>\n",
       "</div>"
      ],
      "text/plain": [
       "    SAT   GPA\n",
       "0  1714  2.40\n",
       "1  1664  2.52\n",
       "2  1760  2.54\n",
       "3  1685  2.74\n",
       "4  1693  2.83"
      ]
     },
     "execution_count": 46,
     "metadata": {},
     "output_type": "execute_result"
    }
   ],
   "source": [
    "df.head()"
   ]
  },
  {
   "cell_type": "markdown",
   "id": "dab581f8",
   "metadata": {},
   "source": [
    "### 3) Exploring Data"
   ]
  },
  {
   "cell_type": "code",
   "execution_count": 47,
   "id": "fdd93bea",
   "metadata": {},
   "outputs": [
    {
     "data": {
      "text/plain": [
       "(84, 2)"
      ]
     },
     "execution_count": 47,
     "metadata": {},
     "output_type": "execute_result"
    }
   ],
   "source": [
    "df.shape"
   ]
  },
  {
   "cell_type": "code",
   "execution_count": 48,
   "id": "4bb33d24",
   "metadata": {},
   "outputs": [
    {
     "name": "stdout",
     "output_type": "stream",
     "text": [
      "<class 'pandas.core.frame.DataFrame'>\n",
      "RangeIndex: 84 entries, 0 to 83\n",
      "Data columns (total 2 columns):\n",
      " #   Column  Non-Null Count  Dtype  \n",
      "---  ------  --------------  -----  \n",
      " 0   SAT     84 non-null     int64  \n",
      " 1   GPA     84 non-null     float64\n",
      "dtypes: float64(1), int64(1)\n",
      "memory usage: 1.4 KB\n"
     ]
    }
   ],
   "source": [
    "df.info()"
   ]
  },
  {
   "cell_type": "code",
   "execution_count": 49,
   "id": "cfe75c5e",
   "metadata": {},
   "outputs": [
    {
     "data": {
      "text/html": [
       "<div>\n",
       "<style scoped>\n",
       "    .dataframe tbody tr th:only-of-type {\n",
       "        vertical-align: middle;\n",
       "    }\n",
       "\n",
       "    .dataframe tbody tr th {\n",
       "        vertical-align: top;\n",
       "    }\n",
       "\n",
       "    .dataframe thead th {\n",
       "        text-align: right;\n",
       "    }\n",
       "</style>\n",
       "<table border=\"1\" class=\"dataframe\">\n",
       "  <thead>\n",
       "    <tr style=\"text-align: right;\">\n",
       "      <th></th>\n",
       "      <th>SAT</th>\n",
       "      <th>GPA</th>\n",
       "    </tr>\n",
       "  </thead>\n",
       "  <tbody>\n",
       "    <tr>\n",
       "      <th>SAT</th>\n",
       "      <td>1.000000</td>\n",
       "      <td>0.637184</td>\n",
       "    </tr>\n",
       "    <tr>\n",
       "      <th>GPA</th>\n",
       "      <td>0.637184</td>\n",
       "      <td>1.000000</td>\n",
       "    </tr>\n",
       "  </tbody>\n",
       "</table>\n",
       "</div>"
      ],
      "text/plain": [
       "          SAT       GPA\n",
       "SAT  1.000000  0.637184\n",
       "GPA  0.637184  1.000000"
      ]
     },
     "execution_count": 49,
     "metadata": {},
     "output_type": "execute_result"
    }
   ],
   "source": [
    "df.corr()"
   ]
  },
  {
   "cell_type": "code",
   "execution_count": 50,
   "id": "d76044ce",
   "metadata": {},
   "outputs": [
    {
     "data": {
      "image/png": "[encoded data removed]",
      "text/plain": [
       "<Figure size 432x288 with 1 Axes>"
      ]
     },
     "metadata": {
      "needs_background": "light"
     },
     "output_type": "display_data"
    }
   ],
   "source": [
    "plt.scatter(df.SAT, df.GPA)\n",
    "plt.xlabel(\"SAT Score\")\n",
    "plt.ylabel(\"GPA\")\n",
    "plt.show()"
   ]
  },
  {
   "cell_type": "markdown",
   "id": "1db0bcc6",
   "metadata": {},
   "source": [
    "### 4) Create X and Y data matrices"
   ]
  },
  {
   "cell_type": "code",
   "execution_count": 51,
   "id": "ee263bf7",
   "metadata": {},
   "outputs": [],
   "source": [
    "X = df.SAT.values.reshape(-1,1)\n",
    "y=df.GPA.values"
   ]
  },
  {
   "cell_type": "code",
   "execution_count": 52,
   "id": "79c5edfc",
   "metadata": {},
   "outputs": [
    {
     "name": "stdout",
     "output_type": "stream",
     "text": [
      "[[1714]\n",
      " [1664]\n",
      " [1760]\n",
      " [1685]\n",
      " [1693]\n",
      " [1670]\n",
      " [1764]\n",
      " [1764]\n",
      " [1792]\n",
      " [1850]\n",
      " [1735]\n",
      " [1775]\n",
      " [1735]\n",
      " [1712]\n",
      " [1773]\n",
      " [1872]\n",
      " [1755]\n",
      " [1674]\n",
      " [1842]\n",
      " [1786]\n",
      " [1761]\n",
      " [1722]\n",
      " [1663]\n",
      " [1687]\n",
      " [1974]\n",
      " [1826]\n",
      " [1787]\n",
      " [1821]\n",
      " [2020]\n",
      " [1794]\n",
      " [1769]\n",
      " [1934]\n",
      " [1775]\n",
      " [1855]\n",
      " [1880]\n",
      " [1849]\n",
      " [1808]\n",
      " [1954]\n",
      " [1777]\n",
      " [1831]\n",
      " [1865]\n",
      " [1850]\n",
      " [1966]\n",
      " [1702]\n",
      " [1990]\n",
      " [1925]\n",
      " [1824]\n",
      " [1956]\n",
      " [1857]\n",
      " [1979]\n",
      " [1802]\n",
      " [1855]\n",
      " [1907]\n",
      " [1634]\n",
      " [1879]\n",
      " [1887]\n",
      " [1730]\n",
      " [1953]\n",
      " [1781]\n",
      " [1891]\n",
      " [1964]\n",
      " [1808]\n",
      " [1893]\n",
      " [2041]\n",
      " [1893]\n",
      " [1832]\n",
      " [1850]\n",
      " [1934]\n",
      " [1861]\n",
      " [1931]\n",
      " [1933]\n",
      " [1778]\n",
      " [1975]\n",
      " [1934]\n",
      " [2021]\n",
      " [2015]\n",
      " [1997]\n",
      " [2020]\n",
      " [1843]\n",
      " [1936]\n",
      " [1810]\n",
      " [1987]\n",
      " [1962]\n",
      " [2050]]\n",
      "[2.4  2.52 2.54 2.74 2.83 2.91 3.   3.   3.01 3.01 3.02 3.07 3.08 3.08\n",
      " 3.12 3.17 3.17 3.17 3.17 3.19 3.19 3.19 3.2  3.21 3.24 3.28 3.28 3.28\n",
      " 3.28 3.28 3.28 3.28 3.29 3.29 3.29 3.31 3.32 3.34 3.37 3.37 3.37 3.38\n",
      " 3.38 3.39 3.39 3.4  3.4  3.4  3.41 3.41 3.41 3.42 3.42 3.42 3.44 3.47\n",
      " 3.47 3.47 3.47 3.48 3.49 3.49 3.5  3.51 3.51 3.52 3.52 3.54 3.58 3.58\n",
      " 3.59 3.59 3.6  3.6  3.61 3.62 3.64 3.65 3.71 3.71 3.71 3.73 3.76 3.81]\n"
     ]
    }
   ],
   "source": [
    "print(X)\n",
    "print(y)"
   ]
  },
  {
   "cell_type": "markdown",
   "id": "78f4e174",
   "metadata": {},
   "source": [
    "### 5) Train test split"
   ]
  },
  {
   "cell_type": "code",
   "execution_count": 53,
   "id": "9820d34c",
   "metadata": {},
   "outputs": [],
   "source": [
    "X_train, X_test, y_train, y_test = train_test_split(X, y, test_size=0.1, random_state=9)"
   ]
  },
  {
   "cell_type": "code",
   "execution_count": 54,
   "id": "683736cf",
   "metadata": {},
   "outputs": [
    {
     "name": "stdout",
     "output_type": "stream",
     "text": [
      "(75, 1) (9, 1) (75,) (9,)\n"
     ]
    }
   ],
   "source": [
    "print(X_train.shape, X_test.shape, y_train.shape, y_test.shape)"
   ]
  },
  {
   "cell_type": "markdown",
   "id": "1ad65655",
   "metadata": {},
   "source": [
    "### 6) Build Linear Redression model"
   ]
  },
  {
   "cell_type": "markdown",
   "id": "6f6be63e",
   "metadata": {},
   "source": [
    "#### Define the regression model"
   ]
  },
  {
   "cell_type": "code",
   "execution_count": 55,
   "id": "28958681",
   "metadata": {},
   "outputs": [],
   "source": [
    "model = LinearRegression()"
   ]
  },
  {
   "cell_type": "markdown",
   "id": "4aae4fe4",
   "metadata": {},
   "source": [
    "#### Train the model"
   ]
  },
  {
   "cell_type": "code",
   "execution_count": 56,
   "id": "ec9fcd50",
   "metadata": {},
   "outputs": [
    {
     "data": {
      "text/plain": [
       "LinearRegression()"
      ]
     },
     "execution_count": 56,
     "metadata": {},
     "output_type": "execute_result"
    }
   ],
   "source": [
    "model.fit(X_train, y_train)"
   ]
  },
  {
   "cell_type": "markdown",
   "id": "4d168275",
   "metadata": {},
   "source": [
    "#### Make prediction"
   ]
  },
  {
   "cell_type": "code",
   "execution_count": 57,
   "id": "4a30addf",
   "metadata": {},
   "outputs": [],
   "source": [
    "y_pred = model.predict(X_test)"
   ]
  },
  {
   "cell_type": "markdown",
   "id": "d3e617bd",
   "metadata": {},
   "source": [
    "#### Coefficient and Intercept"
   ]
  },
  {
   "cell_type": "code",
   "execution_count": 58,
   "id": "2768ec91",
   "metadata": {},
   "outputs": [
    {
     "name": "stdout",
     "output_type": "stream",
     "text": [
      "[0.00168179]\n",
      "0.23381347645071315\n"
     ]
    }
   ],
   "source": [
    "print(model.coef_)\n",
    "print(model.intercept_)"
   ]
  },
  {
   "cell_type": "markdown",
   "id": "a8bd8d9c",
   "metadata": {},
   "source": [
    "#### Model Performance"
   ]
  },
  {
   "cell_type": "code",
   "execution_count": 59,
   "id": "6512f186",
   "metadata": {},
   "outputs": [
    {
     "data": {
      "text/plain": [
       "0.4085207862728196"
      ]
     },
     "execution_count": 59,
     "metadata": {},
     "output_type": "execute_result"
    }
   ],
   "source": [
    "model.score(X_train, y_train)"
   ]
  },
  {
   "cell_type": "code",
   "execution_count": 60,
   "id": "702629a9",
   "metadata": {},
   "outputs": [
    {
     "data": {
      "text/plain": [
       "0.36635402836685527"
      ]
     },
     "execution_count": 60,
     "metadata": {},
     "output_type": "execute_result"
    }
   ],
   "source": [
    "model.score(X_test, y_test)"
   ]
  },
  {
   "cell_type": "code",
   "execution_count": 61,
   "id": "efcf795c",
   "metadata": {
    "scrolled": true
   },
   "outputs": [
    {
     "data": {
      "text/plain": [
       "0.033653641604515894"
      ]
     },
     "execution_count": 61,
     "metadata": {},
     "output_type": "execute_result"
    }
   ],
   "source": [
    "metrics.mean_squared_error(y_pred,y_test)"
   ]
  },
  {
   "cell_type": "code",
   "execution_count": 62,
   "id": "538b43e4",
   "metadata": {},
   "outputs": [
    {
     "data": {
      "text/plain": [
       "0.14262152567693143"
      ]
     },
     "execution_count": 62,
     "metadata": {},
     "output_type": "execute_result"
    }
   ],
   "source": [
    "metrics.mean_absolute_error(y_pred,y_test)"
   ]
  },
  {
   "cell_type": "markdown",
   "id": "907503bd",
   "metadata": {},
   "source": [
    "### 7) Visualize our Result"
   ]
  },
  {
   "cell_type": "code",
   "execution_count": 63,
   "id": "61ef873e",
   "metadata": {
    "scrolled": false
   },
   "outputs": [
    {
     "data": {
      "image/png": "[encoded data removed]",
      "text/plain": [
       "<Figure size 432x288 with 1 Axes>"
      ]
     },
     "metadata": {
      "needs_background": "light"
     },
     "output_type": "display_data"
    }
   ],
   "source": [
    "plt.scatter(X, y)\n",
    "plt.plot(X_test, y_pred, color='red', linewidth=2)\n",
    "plt.show()"
   ]
  },
  {
   "cell_type": "code",
   "execution_count": null,
   "id": "8c57ea3f",
   "metadata": {},
   "outputs": [],
   "source": []
  }
 ],
 "metadata": {
  "kernelspec": {
   "display_name": "Python 3",
   "language": "python",
   "name": "python3"
  },
  "language_info": {
   "codemirror_mode": {
    "name": "ipython",
    "version": 3
   },
   "file_extension": ".py",
   "mimetype": "text/x-python",
   "name": "python",
   "nbconvert_exporter": "python",
   "pygments_lexer": "ipython3",
   "version": "3.8.8"
  }
 },
 "nbformat": 4,
 "nbformat_minor": 5
}
